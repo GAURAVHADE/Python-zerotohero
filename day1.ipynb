{
  "nbformat": 4,
  "nbformat_minor": 0,
  "metadata": {
    "colab": {
      "name": "day1.ipynb",
      "provenance": [],
      "authorship_tag": "ABX9TyOKWoMszxq5HXRVM6yggban",
      "include_colab_link": true
    },
    "kernelspec": {
      "name": "python3",
      "display_name": "Python 3"
    },
    "language_info": {
      "name": "python"
    }
  },
  "cells": [
    {
      "cell_type": "markdown",
      "metadata": {
        "id": "view-in-github",
        "colab_type": "text"
      },
      "source": [
        "<a href=\"https://colab.research.google.com/github/GAURAVHADE/Python-zerotohero/blob/main/day1.ipynb\" target=\"_parent\"><img src=\"https://colab.research.google.com/assets/colab-badge.svg\" alt=\"Open In Colab\"/></a>"
      ]
    },
    {
      "cell_type": "code",
      "execution_count": 3,
      "metadata": {
        "colab": {
          "base_uri": "https://localhost:8080/"
        },
        "id": "1RLnc6wwOMQ_",
        "outputId": "9169725e-d681-4223-e381-34d370a518df"
      },
      "outputs": [
        {
          "output_type": "stream",
          "name": "stdout",
          "text": [
            "895\n",
            "6\n",
            "8\n",
            "stop\n",
            "909\n"
          ]
        }
      ],
      "source": [
        "#Take Multiple Number As Input And Print The Sum\n",
        "\n",
        "sum=0\n",
        "while True:\n",
        "   inputs = input()\n",
        "   if inputs == \"stop\":\n",
        "        break\n",
        "   else:\n",
        "        sum = sum+int(inputs)\n",
        "print(sum)"
      ]
    }
  ]
}